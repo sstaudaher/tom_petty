{
 "cells": [
  {
   "cell_type": "code",
   "execution_count": 54,
   "metadata": {
    "collapsed": false
   },
   "outputs": [],
   "source": [
    "import pandas as pd\n",
    "import numpy as np\n",
    "import seaborn as sns\n",
    "import matplotlib.pyplot as plt\n",
    "%matplotlib inline\n",
    "\n",
    "lyrics_enriched = pd.read_csv('../data/Lyrics_enriched.csv')\n",
    "df = pd.read_csv('../data/Track_Features.csv')"
   ]
  },
  {
   "cell_type": "markdown",
   "metadata": {},
   "source": [
    "## Data Investigation\n",
    "Let's look at each column to understand what each is"
   ]
  },
  {
   "cell_type": "code",
   "execution_count": 81,
   "metadata": {
    "collapsed": false
   },
   "outputs": [
    {
     "name": "stdout",
     "output_type": "stream",
     "text": [
      "Group_Name_artist_album\n",
      "Years_Active_artist_album\n",
      "album_id\n",
      "Hit\n",
      "url_album\n",
      "release_date_album\n",
      "name_album\n",
      "track_id\n",
      "name_track\n",
      "popularity_track\n",
      "spotify_embed_url_track\n",
      "popularity_album\n",
      "artist_id_artist_album\n",
      "duration_ms_track\n",
      "explicit_track\n",
      "acousticness_tf\n",
      "danceability_tf\n",
      "energy_tf\n",
      "instrumentalness_tf\n",
      "key_tf\n",
      "liveness_tf\n",
      "loudness_tf\n",
      "mode_tf\n",
      "speechiness_tf\n",
      "tempo_tf\n",
      "time_signature_tf\n",
      "valence_tf\n",
      "datetime_album\n",
      "album_year\n",
      "236\n"
     ]
    }
   ],
   "source": [
    "for key in df.keys():\n",
    "    print key\n",
    "print len(df)"
   ]
  },
  {
   "cell_type": "markdown",
   "metadata": {},
   "source": [
    "# Group_Name_artist_album"
   ]
  },
  {
   "cell_type": "code",
   "execution_count": 3,
   "metadata": {
    "collapsed": false
   },
   "outputs": [
    {
     "data": {
      "text/plain": [
       "Tom Petty and the Heartbreakers    149\n",
       "Tom Petty (solo)                    39\n",
       "Mudcrutch                           25\n",
       "Traveling Wilburys                  21\n",
       "Single                               2\n",
       "Name: Group_Name_artist_album, dtype: int64"
      ]
     },
     "execution_count": 3,
     "metadata": {},
     "output_type": "execute_result"
    }
   ],
   "source": [
    "df.Group_Name_artist_album.value_counts()"
   ]
  },
  {
   "cell_type": "markdown",
   "metadata": {},
   "source": [
    "This is the artist who recorded the song, only a few options and mostly they are all with the Heartbreakers\n",
    "We could subdivide the data-set by group, but the data will become very sparse for many groups which might cause overfitting."
   ]
  },
  {
   "cell_type": "code",
   "execution_count": 4,
   "metadata": {
    "collapsed": false,
    "scrolled": true
   },
   "outputs": [
    {
     "data": {
      "text/plain": [
       "<matplotlib.axes._subplots.AxesSubplot at 0x1133eb890>"
      ]
     },
     "execution_count": 4,
     "metadata": {},
     "output_type": "execute_result"
    },
    {
     "data": {
      "image/png": "[encoded data removed]",
      "text/plain": [
       "<matplotlib.figure.Figure at 0x10aa77150>"
      ]
     },
     "metadata": {},
     "output_type": "display_data"
    }
   ],
   "source": [
    "df.Group_Name_artist_album.value_counts().plot(kind='bar')"
   ]
  },
  {
   "cell_type": "markdown",
   "metadata": {},
   "source": [
    "# Years_Active_artist_album"
   ]
  },
  {
   "cell_type": "code",
   "execution_count": 5,
   "metadata": {
    "collapsed": false
   },
   "outputs": [
    {
     "data": {
      "text/plain": [
       "1976-1987              149\n",
       "1989-2006               39\n",
       "2007-2016 (present)     25\n",
       "1988-1991               21\n",
       "Name: Years_Active_artist_album, dtype: int64"
      ]
     },
     "execution_count": 5,
     "metadata": {},
     "output_type": "execute_result"
    }
   ],
   "source": [
    "df.Years_Active_artist_album.value_counts()"
   ]
  },
  {
   "cell_type": "code",
   "execution_count": 6,
   "metadata": {
    "collapsed": false
   },
   "outputs": [
    {
     "data": {
      "text/html": [
       "<div>\n",
       "<style>\n",
       "    .dataframe thead tr:only-child th {\n",
       "        text-align: right;\n",
       "    }\n",
       "\n",
       "    .dataframe thead th {\n",
       "        text-align: left;\n",
       "    }\n",
       "\n",
       "    .dataframe tbody tr th {\n",
       "        vertical-align: top;\n",
       "    }\n",
       "</style>\n",
       "<table border=\"1\" class=\"dataframe\">\n",
       "  <thead>\n",
       "    <tr style=\"text-align: right;\">\n",
       "      <th></th>\n",
       "      <th>Group_Name_artist_album</th>\n",
       "      <th>Years_Active_artist_album</th>\n",
       "    </tr>\n",
       "  </thead>\n",
       "  <tbody>\n",
       "    <tr>\n",
       "      <th>0</th>\n",
       "      <td>Tom Petty (solo)</td>\n",
       "      <td>1989-2006</td>\n",
       "    </tr>\n",
       "    <tr>\n",
       "      <th>1</th>\n",
       "      <td>Tom Petty (solo)</td>\n",
       "      <td>1989-2006</td>\n",
       "    </tr>\n",
       "    <tr>\n",
       "      <th>2</th>\n",
       "      <td>Tom Petty (solo)</td>\n",
       "      <td>1989-2006</td>\n",
       "    </tr>\n",
       "    <tr>\n",
       "      <th>3</th>\n",
       "      <td>Tom Petty (solo)</td>\n",
       "      <td>1989-2006</td>\n",
       "    </tr>\n",
       "    <tr>\n",
       "      <th>4</th>\n",
       "      <td>Tom Petty (solo)</td>\n",
       "      <td>1989-2006</td>\n",
       "    </tr>\n",
       "    <tr>\n",
       "      <th>5</th>\n",
       "      <td>Tom Petty (solo)</td>\n",
       "      <td>1989-2006</td>\n",
       "    </tr>\n",
       "    <tr>\n",
       "      <th>6</th>\n",
       "      <td>Tom Petty (solo)</td>\n",
       "      <td>1989-2006</td>\n",
       "    </tr>\n",
       "    <tr>\n",
       "      <th>7</th>\n",
       "      <td>Tom Petty (solo)</td>\n",
       "      <td>1989-2006</td>\n",
       "    </tr>\n",
       "    <tr>\n",
       "      <th>8</th>\n",
       "      <td>Tom Petty (solo)</td>\n",
       "      <td>1989-2006</td>\n",
       "    </tr>\n",
       "    <tr>\n",
       "      <th>9</th>\n",
       "      <td>Tom Petty (solo)</td>\n",
       "      <td>1989-2006</td>\n",
       "    </tr>\n",
       "    <tr>\n",
       "      <th>10</th>\n",
       "      <td>Tom Petty (solo)</td>\n",
       "      <td>1989-2006</td>\n",
       "    </tr>\n",
       "    <tr>\n",
       "      <th>11</th>\n",
       "      <td>Tom Petty (solo)</td>\n",
       "      <td>1989-2006</td>\n",
       "    </tr>\n",
       "    <tr>\n",
       "      <th>12</th>\n",
       "      <td>Tom Petty (solo)</td>\n",
       "      <td>1989-2006</td>\n",
       "    </tr>\n",
       "    <tr>\n",
       "      <th>13</th>\n",
       "      <td>Tom Petty (solo)</td>\n",
       "      <td>1989-2006</td>\n",
       "    </tr>\n",
       "    <tr>\n",
       "      <th>14</th>\n",
       "      <td>Tom Petty (solo)</td>\n",
       "      <td>1989-2006</td>\n",
       "    </tr>\n",
       "    <tr>\n",
       "      <th>15</th>\n",
       "      <td>Tom Petty (solo)</td>\n",
       "      <td>1989-2006</td>\n",
       "    </tr>\n",
       "    <tr>\n",
       "      <th>16</th>\n",
       "      <td>Tom Petty (solo)</td>\n",
       "      <td>1989-2006</td>\n",
       "    </tr>\n",
       "    <tr>\n",
       "      <th>17</th>\n",
       "      <td>Tom Petty (solo)</td>\n",
       "      <td>1989-2006</td>\n",
       "    </tr>\n",
       "    <tr>\n",
       "      <th>18</th>\n",
       "      <td>Tom Petty (solo)</td>\n",
       "      <td>1989-2006</td>\n",
       "    </tr>\n",
       "    <tr>\n",
       "      <th>19</th>\n",
       "      <td>Tom Petty (solo)</td>\n",
       "      <td>1989-2006</td>\n",
       "    </tr>\n",
       "    <tr>\n",
       "      <th>20</th>\n",
       "      <td>Tom Petty (solo)</td>\n",
       "      <td>1989-2006</td>\n",
       "    </tr>\n",
       "    <tr>\n",
       "      <th>21</th>\n",
       "      <td>Tom Petty (solo)</td>\n",
       "      <td>1989-2006</td>\n",
       "    </tr>\n",
       "    <tr>\n",
       "      <th>22</th>\n",
       "      <td>Tom Petty (solo)</td>\n",
       "      <td>1989-2006</td>\n",
       "    </tr>\n",
       "    <tr>\n",
       "      <th>23</th>\n",
       "      <td>Tom Petty (solo)</td>\n",
       "      <td>1989-2006</td>\n",
       "    </tr>\n",
       "    <tr>\n",
       "      <th>24</th>\n",
       "      <td>Tom Petty (solo)</td>\n",
       "      <td>1989-2006</td>\n",
       "    </tr>\n",
       "    <tr>\n",
       "      <th>25</th>\n",
       "      <td>Tom Petty (solo)</td>\n",
       "      <td>1989-2006</td>\n",
       "    </tr>\n",
       "    <tr>\n",
       "      <th>26</th>\n",
       "      <td>Tom Petty (solo)</td>\n",
       "      <td>1989-2006</td>\n",
       "    </tr>\n",
       "    <tr>\n",
       "      <th>27</th>\n",
       "      <td>Tom Petty (solo)</td>\n",
       "      <td>1989-2006</td>\n",
       "    </tr>\n",
       "    <tr>\n",
       "      <th>28</th>\n",
       "      <td>Tom Petty (solo)</td>\n",
       "      <td>1989-2006</td>\n",
       "    </tr>\n",
       "    <tr>\n",
       "      <th>29</th>\n",
       "      <td>Tom Petty (solo)</td>\n",
       "      <td>1989-2006</td>\n",
       "    </tr>\n",
       "    <tr>\n",
       "      <th>...</th>\n",
       "      <td>...</td>\n",
       "      <td>...</td>\n",
       "    </tr>\n",
       "    <tr>\n",
       "      <th>206</th>\n",
       "      <td>Traveling Wilburys</td>\n",
       "      <td>1988-1991</td>\n",
       "    </tr>\n",
       "    <tr>\n",
       "      <th>207</th>\n",
       "      <td>Traveling Wilburys</td>\n",
       "      <td>1988-1991</td>\n",
       "    </tr>\n",
       "    <tr>\n",
       "      <th>208</th>\n",
       "      <td>Traveling Wilburys</td>\n",
       "      <td>1988-1991</td>\n",
       "    </tr>\n",
       "    <tr>\n",
       "      <th>209</th>\n",
       "      <td>Mudcrutch</td>\n",
       "      <td>2007-2016 (present)</td>\n",
       "    </tr>\n",
       "    <tr>\n",
       "      <th>210</th>\n",
       "      <td>Mudcrutch</td>\n",
       "      <td>2007-2016 (present)</td>\n",
       "    </tr>\n",
       "    <tr>\n",
       "      <th>211</th>\n",
       "      <td>Mudcrutch</td>\n",
       "      <td>2007-2016 (present)</td>\n",
       "    </tr>\n",
       "    <tr>\n",
       "      <th>212</th>\n",
       "      <td>Mudcrutch</td>\n",
       "      <td>2007-2016 (present)</td>\n",
       "    </tr>\n",
       "    <tr>\n",
       "      <th>213</th>\n",
       "      <td>Mudcrutch</td>\n",
       "      <td>2007-2016 (present)</td>\n",
       "    </tr>\n",
       "    <tr>\n",
       "      <th>214</th>\n",
       "      <td>Mudcrutch</td>\n",
       "      <td>2007-2016 (present)</td>\n",
       "    </tr>\n",
       "    <tr>\n",
       "      <th>215</th>\n",
       "      <td>Mudcrutch</td>\n",
       "      <td>2007-2016 (present)</td>\n",
       "    </tr>\n",
       "    <tr>\n",
       "      <th>216</th>\n",
       "      <td>Mudcrutch</td>\n",
       "      <td>2007-2016 (present)</td>\n",
       "    </tr>\n",
       "    <tr>\n",
       "      <th>217</th>\n",
       "      <td>Mudcrutch</td>\n",
       "      <td>2007-2016 (present)</td>\n",
       "    </tr>\n",
       "    <tr>\n",
       "      <th>218</th>\n",
       "      <td>Mudcrutch</td>\n",
       "      <td>2007-2016 (present)</td>\n",
       "    </tr>\n",
       "    <tr>\n",
       "      <th>219</th>\n",
       "      <td>Mudcrutch</td>\n",
       "      <td>2007-2016 (present)</td>\n",
       "    </tr>\n",
       "    <tr>\n",
       "      <th>220</th>\n",
       "      <td>Mudcrutch</td>\n",
       "      <td>2007-2016 (present)</td>\n",
       "    </tr>\n",
       "    <tr>\n",
       "      <th>221</th>\n",
       "      <td>Mudcrutch</td>\n",
       "      <td>2007-2016 (present)</td>\n",
       "    </tr>\n",
       "    <tr>\n",
       "      <th>222</th>\n",
       "      <td>Mudcrutch</td>\n",
       "      <td>2007-2016 (present)</td>\n",
       "    </tr>\n",
       "    <tr>\n",
       "      <th>223</th>\n",
       "      <td>Mudcrutch</td>\n",
       "      <td>2007-2016 (present)</td>\n",
       "    </tr>\n",
       "    <tr>\n",
       "      <th>224</th>\n",
       "      <td>Mudcrutch</td>\n",
       "      <td>2007-2016 (present)</td>\n",
       "    </tr>\n",
       "    <tr>\n",
       "      <th>225</th>\n",
       "      <td>Mudcrutch</td>\n",
       "      <td>2007-2016 (present)</td>\n",
       "    </tr>\n",
       "    <tr>\n",
       "      <th>226</th>\n",
       "      <td>Mudcrutch</td>\n",
       "      <td>2007-2016 (present)</td>\n",
       "    </tr>\n",
       "    <tr>\n",
       "      <th>227</th>\n",
       "      <td>Mudcrutch</td>\n",
       "      <td>2007-2016 (present)</td>\n",
       "    </tr>\n",
       "    <tr>\n",
       "      <th>228</th>\n",
       "      <td>Mudcrutch</td>\n",
       "      <td>2007-2016 (present)</td>\n",
       "    </tr>\n",
       "    <tr>\n",
       "      <th>229</th>\n",
       "      <td>Mudcrutch</td>\n",
       "      <td>2007-2016 (present)</td>\n",
       "    </tr>\n",
       "    <tr>\n",
       "      <th>230</th>\n",
       "      <td>Mudcrutch</td>\n",
       "      <td>2007-2016 (present)</td>\n",
       "    </tr>\n",
       "    <tr>\n",
       "      <th>231</th>\n",
       "      <td>Mudcrutch</td>\n",
       "      <td>2007-2016 (present)</td>\n",
       "    </tr>\n",
       "    <tr>\n",
       "      <th>232</th>\n",
       "      <td>Mudcrutch</td>\n",
       "      <td>2007-2016 (present)</td>\n",
       "    </tr>\n",
       "    <tr>\n",
       "      <th>233</th>\n",
       "      <td>Mudcrutch</td>\n",
       "      <td>2007-2016 (present)</td>\n",
       "    </tr>\n",
       "    <tr>\n",
       "      <th>234</th>\n",
       "      <td>Single</td>\n",
       "      <td>NaN</td>\n",
       "    </tr>\n",
       "    <tr>\n",
       "      <th>235</th>\n",
       "      <td>Single</td>\n",
       "      <td>NaN</td>\n",
       "    </tr>\n",
       "  </tbody>\n",
       "</table>\n",
       "<p>236 rows × 2 columns</p>\n",
       "</div>"
      ],
      "text/plain": [
       "    Group_Name_artist_album Years_Active_artist_album\n",
       "0          Tom Petty (solo)                 1989-2006\n",
       "1          Tom Petty (solo)                 1989-2006\n",
       "2          Tom Petty (solo)                 1989-2006\n",
       "3          Tom Petty (solo)                 1989-2006\n",
       "4          Tom Petty (solo)                 1989-2006\n",
       "5          Tom Petty (solo)                 1989-2006\n",
       "6          Tom Petty (solo)                 1989-2006\n",
       "7          Tom Petty (solo)                 1989-2006\n",
       "8          Tom Petty (solo)                 1989-2006\n",
       "9          Tom Petty (solo)                 1989-2006\n",
       "10         Tom Petty (solo)                 1989-2006\n",
       "11         Tom Petty (solo)                 1989-2006\n",
       "12         Tom Petty (solo)                 1989-2006\n",
       "13         Tom Petty (solo)                 1989-2006\n",
       "14         Tom Petty (solo)                 1989-2006\n",
       "15         Tom Petty (solo)                 1989-2006\n",
       "16         Tom Petty (solo)                 1989-2006\n",
       "17         Tom Petty (solo)                 1989-2006\n",
       "18         Tom Petty (solo)                 1989-2006\n",
       "19         Tom Petty (solo)                 1989-2006\n",
       "20         Tom Petty (solo)                 1989-2006\n",
       "21         Tom Petty (solo)                 1989-2006\n",
       "22         Tom Petty (solo)                 1989-2006\n",
       "23         Tom Petty (solo)                 1989-2006\n",
       "24         Tom Petty (solo)                 1989-2006\n",
       "25         Tom Petty (solo)                 1989-2006\n",
       "26         Tom Petty (solo)                 1989-2006\n",
       "27         Tom Petty (solo)                 1989-2006\n",
       "28         Tom Petty (solo)                 1989-2006\n",
       "29         Tom Petty (solo)                 1989-2006\n",
       "..                      ...                       ...\n",
       "206      Traveling Wilburys                 1988-1991\n",
       "207      Traveling Wilburys                 1988-1991\n",
       "208      Traveling Wilburys                 1988-1991\n",
       "209               Mudcrutch       2007-2016 (present)\n",
       "210               Mudcrutch       2007-2016 (present)\n",
       "211               Mudcrutch       2007-2016 (present)\n",
       "212               Mudcrutch       2007-2016 (present)\n",
       "213               Mudcrutch       2007-2016 (present)\n",
       "214               Mudcrutch       2007-2016 (present)\n",
       "215               Mudcrutch       2007-2016 (present)\n",
       "216               Mudcrutch       2007-2016 (present)\n",
       "217               Mudcrutch       2007-2016 (present)\n",
       "218               Mudcrutch       2007-2016 (present)\n",
       "219               Mudcrutch       2007-2016 (present)\n",
       "220               Mudcrutch       2007-2016 (present)\n",
       "221               Mudcrutch       2007-2016 (present)\n",
       "222               Mudcrutch       2007-2016 (present)\n",
       "223               Mudcrutch       2007-2016 (present)\n",
       "224               Mudcrutch       2007-2016 (present)\n",
       "225               Mudcrutch       2007-2016 (present)\n",
       "226               Mudcrutch       2007-2016 (present)\n",
       "227               Mudcrutch       2007-2016 (present)\n",
       "228               Mudcrutch       2007-2016 (present)\n",
       "229               Mudcrutch       2007-2016 (present)\n",
       "230               Mudcrutch       2007-2016 (present)\n",
       "231               Mudcrutch       2007-2016 (present)\n",
       "232               Mudcrutch       2007-2016 (present)\n",
       "233               Mudcrutch       2007-2016 (present)\n",
       "234                  Single                       NaN\n",
       "235                  Single                       NaN\n",
       "\n",
       "[236 rows x 2 columns]"
      ]
     },
     "execution_count": 6,
     "metadata": {},
     "output_type": "execute_result"
    }
   ],
   "source": [
    "df[['Group_Name_artist_album', 'Years_Active_artist_album']]"
   ]
  },
  {
   "cell_type": "markdown",
   "metadata": {},
   "source": [
    "The first two columns are linked, containing the following pairs only:"
   ]
  },
  {
   "cell_type": "code",
   "execution_count": 78,
   "metadata": {
    "collapsed": false
   },
   "outputs": [
    {
     "data": {
      "text/plain": [
       "{('Mudcrutch', '2007-2016 (present)'),\n",
       " ('Single', nan),\n",
       " ('Tom Petty (solo)', '1989-2006'),\n",
       " ('Tom Petty and the Heartbreakers', '1976-1987'),\n",
       " ('Traveling Wilburys', '1988-1991')}"
      ]
     },
     "execution_count": 78,
     "metadata": {},
     "output_type": "execute_result"
    }
   ],
   "source": [
    "set(zip(df.Group_Name_artist_album, df.Years_Active_artist_album))"
   ]
  },
  {
   "cell_type": "markdown",
   "metadata": {},
   "source": [
    "# album_id\n",
    "This is a hash of the albums name, Tom Petty has been on 22 albums!"
   ]
  },
  {
   "cell_type": "code",
   "execution_count": 8,
   "metadata": {
    "collapsed": false
   },
   "outputs": [
    {
     "data": {
      "text/plain": [
       "22"
      ]
     },
     "execution_count": 8,
     "metadata": {},
     "output_type": "execute_result"
    }
   ],
   "source": [
    "len(set(df.album_id))"
   ]
  },
  {
   "cell_type": "markdown",
   "metadata": {},
   "source": [
    "# Hit\n",
    "A binary value if the track was a hit or not"
   ]
  },
  {
   "cell_type": "code",
   "execution_count": 9,
   "metadata": {
    "collapsed": false
   },
   "outputs": [
    {
     "data": {
      "text/plain": [
       "0    206\n",
       "1     30\n",
       "Name: Hit, dtype: int64"
      ]
     },
     "execution_count": 9,
     "metadata": {},
     "output_type": "execute_result"
    }
   ],
   "source": [
    "df.Hit.value_counts()"
   ]
  },
  {
   "cell_type": "markdown",
   "metadata": {},
   "source": [
    "# url_album\n",
    "A link to the album artwork"
   ]
  },
  {
   "cell_type": "markdown",
   "metadata": {},
   "source": [
    "# release_date_album\n",
    "mm/dd/yyyy for the release date of the album"
   ]
  },
  {
   "cell_type": "code",
   "execution_count": 10,
   "metadata": {
    "collapsed": false
   },
   "outputs": [
    {
     "data": {
      "text/plain": [
       "6/15/2010     15\n",
       "4/13/1999     15\n",
       "8/6/1996      15\n",
       "10/21/1994    15\n",
       "3/25/2008     14\n",
       "1/1/1989      12\n",
       "7/21/2006     12\n",
       "1/1/1991      12\n",
       "10/8/2002     12\n",
       "5/20/2016     11\n",
       "10/29/1990    11\n",
       "7/29/2014     11\n",
       "4/21/1987     11\n",
       "11/2/1982     10\n",
       "10/18/1988    10\n",
       "5/2/1978      10\n",
       "5/5/1981      10\n",
       "11/9/1976     10\n",
       "3/26/1985      9\n",
       "10/19/1979     9\n",
       "Name: release_date_album, dtype: int64"
      ]
     },
     "execution_count": 10,
     "metadata": {},
     "output_type": "execute_result"
    }
   ],
   "source": [
    "df.release_date_album.value_counts()"
   ]
  },
  {
   "cell_type": "markdown",
   "metadata": {},
   "source": [
    "Note that there are only 20 unique values rather than 22 as seen above due to the two singles"
   ]
  },
  {
   "cell_type": "code",
   "execution_count": 63,
   "metadata": {
    "collapsed": false
   },
   "outputs": [
    {
     "data": {
      "text/plain": [
       "<matplotlib.axes._subplots.AxesSubplot at 0x12f5b3c50>"
      ]
     },
     "execution_count": 63,
     "metadata": {},
     "output_type": "execute_result"
    },
    {
     "data": {
      "image/png": "[encoded data removed]",
      "text/plain": [
       "<matplotlib.figure.Figure at 0x1292b8ad0>"
      ]
     },
     "metadata": {},
     "output_type": "display_data"
    }
   ],
   "source": [
    "from datetime import datetime\n",
    "df['datetime_album'] = pd.to_datetime(df.release_date_album, errors='coerce')\n",
    "df['album_year'] = df['datetime_album'].apply(lambda date: date.year)\n",
    "df['album_year'].hist(bins = range(1975, 2016))"
   ]
  },
  {
   "cell_type": "markdown",
   "metadata": {},
   "source": [
    "Tom never had multiple albums out in a single year, and has become less productive as time goes on"
   ]
  },
  {
   "cell_type": "markdown",
   "metadata": {},
   "source": [
    "# name_album"
   ]
  },
  {
   "cell_type": "code",
   "execution_count": 12,
   "metadata": {
    "collapsed": false
   },
   "outputs": [
    {
     "data": {
      "text/plain": [
       "{nan,\n",
       " '2',\n",
       " 'Damn The Torpedoes (Remastered)',\n",
       " 'Echo',\n",
       " 'Full Moon Fever',\n",
       " 'Hard Promises (Remastered)',\n",
       " 'Highway Companion (U.S. Version)',\n",
       " 'Hypnotic Eye',\n",
       " 'Into The Great Wide Open',\n",
       " \"Let Me Up (I've Had Enough)\",\n",
       " 'Long After Dark',\n",
       " 'Mojo',\n",
       " 'Mudcrutch',\n",
       " \"She's The One (Songs and Music From The Motion Picture)\",\n",
       " 'Southern Accents',\n",
       " 'The Last DJ',\n",
       " 'The Traveling Wilburys, Vol. 1',\n",
       " 'The Traveling Wilburys, Vol. 3',\n",
       " 'Tom Petty & The Heartbreakers',\n",
       " 'Wildflowers',\n",
       " \"You're Gonna Get it\"}"
      ]
     },
     "execution_count": 12,
     "metadata": {},
     "output_type": "execute_result"
    }
   ],
   "source": [
    "len(df.name_album.value_counts())\n",
    "set(df.name_album)"
   ]
  },
  {
   "cell_type": "markdown",
   "metadata": {},
   "source": [
    "Similarly to the release date, the singles are treated as NaNs"
   ]
  },
  {
   "cell_type": "markdown",
   "metadata": {},
   "source": [
    "# track_id\n",
    "A hash of the track id number"
   ]
  },
  {
   "cell_type": "markdown",
   "metadata": {},
   "source": [
    "# name_track"
   ]
  },
  {
   "cell_type": "code",
   "execution_count": 13,
   "metadata": {
    "collapsed": false
   },
   "outputs": [
    {
     "data": {
      "text/plain": [
       "count                       236\n",
       "unique                      236\n",
       "top       Heading For The Light\n",
       "freq                          1\n",
       "Name: name_track, dtype: object"
      ]
     },
     "execution_count": 13,
     "metadata": {},
     "output_type": "execute_result"
    }
   ],
   "source": [
    "df.name_track.describe()"
   ]
  },
  {
   "cell_type": "code",
   "execution_count": 14,
   "metadata": {
    "collapsed": false
   },
   "outputs": [
    {
     "data": {
      "text/plain": [
       "236"
      ]
     },
     "execution_count": 14,
     "metadata": {},
     "output_type": "execute_result"
    }
   ],
   "source": [
    "len(df)"
   ]
  },
  {
   "cell_type": "markdown",
   "metadata": {},
   "source": [
    "Each track has an id"
   ]
  },
  {
   "cell_type": "markdown",
   "metadata": {},
   "source": [
    "# popularity_track\n",
    "The track's popularity value on spotify, higher values signify higher popularity with a maximum of 100"
   ]
  },
  {
   "cell_type": "code",
   "execution_count": 15,
   "metadata": {
    "collapsed": false
   },
   "outputs": [
    {
     "data": {
      "text/plain": [
       "<matplotlib.text.Text at 0x116d91450>"
      ]
     },
     "execution_count": 15,
     "metadata": {},
     "output_type": "execute_result"
    },
    {
     "data": {
      "image/png": "[encoded data removed]",
      "text/plain": [
       "<matplotlib.figure.Figure at 0x113567690>"
      ]
     },
     "metadata": {},
     "output_type": "display_data"
    }
   ],
   "source": [
    "ax = df.popularity_track.hist(bins = range(65))\n",
    "ax.set_xlabel('Spotify Track Popularity Score')"
   ]
  },
  {
   "cell_type": "markdown",
   "metadata": {
    "collapsed": true
   },
   "source": [
    "# spotify_embed_url_track\n",
    "The url for the track"
   ]
  },
  {
   "cell_type": "markdown",
   "metadata": {},
   "source": [
    "# popularity_album\n",
    "How popular the album is on spotify, multiple albums have the same ranking, higher values signify higher popularity, with a maximum of 100."
   ]
  },
  {
   "cell_type": "code",
   "execution_count": 16,
   "metadata": {
    "collapsed": false
   },
   "outputs": [
    {
     "data": {
      "text/plain": [
       "<matplotlib.text.Text at 0x116f20b50>"
      ]
     },
     "execution_count": 16,
     "metadata": {},
     "output_type": "execute_result"
    },
    {
     "data": {
      "image/png": "[encoded data removed]",
      "text/plain": [
       "<matplotlib.figure.Figure at 0x117088fd0>"
      ]
     },
     "metadata": {},
     "output_type": "display_data"
    }
   ],
   "source": [
    "ax = df.popularity_album.hist(bins=range(30,60))\n",
    "ax.set_xlabel('Spotify Album Popularity Score')"
   ]
  },
  {
   "cell_type": "markdown",
   "metadata": {},
   "source": [
    "# artist_id_artist_album\n",
    "A hash of Group_Name_artist_album but excludes the singles"
   ]
  },
  {
   "cell_type": "code",
   "execution_count": 17,
   "metadata": {
    "collapsed": false
   },
   "outputs": [
    {
     "data": {
      "text/plain": [
       "4tX2TplrkIP4v05BNC903e    149\n",
       "2UZMlIwnkgAEDBsw1Rejkn     39\n",
       "2xLqrYZxa9GYSCVn0STgxV     25\n",
       "2hO4YtXUFJiUYS2uYFvHNK     21\n",
       "Name: artist_id_artist_album, dtype: int64"
      ]
     },
     "execution_count": 17,
     "metadata": {},
     "output_type": "execute_result"
    }
   ],
   "source": [
    "df.artist_id_artist_album.value_counts()"
   ]
  },
  {
   "cell_type": "markdown",
   "metadata": {},
   "source": [
    "# duration_ms_track"
   ]
  },
  {
   "cell_type": "code",
   "execution_count": 18,
   "metadata": {
    "collapsed": false
   },
   "outputs": [
    {
     "data": {
      "text/plain": [
       "count    236.000000\n",
       "mean       3.802401\n",
       "std        0.996415\n",
       "min        0.950000\n",
       "25%        3.183333\n",
       "50%        3.608333\n",
       "75%        4.287500\n",
       "max        9.466667\n",
       "Name: duration_ms_track, dtype: float64"
      ]
     },
     "execution_count": 18,
     "metadata": {},
     "output_type": "execute_result"
    },
    {
     "data": {
      "image/png": "[encoded data removed]",
      "text/plain": [
       "<matplotlib.figure.Figure at 0x113567410>"
      ]
     },
     "metadata": {},
     "output_type": "display_data"
    }
   ],
   "source": [
    "ax = df.duration_ms_track.apply(lambda x: x/1000/60.).hist(bins=20)\n",
    "ax.set_xlabel('Track Duration (min)')\n",
    "df.duration_ms_track.apply(lambda x: x/1000/60.).describe()"
   ]
  },
  {
   "cell_type": "markdown",
   "metadata": {},
   "source": [
    "# explicit_track\n",
    "Tom Petty only curses once, ever"
   ]
  },
  {
   "cell_type": "code",
   "execution_count": 19,
   "metadata": {
    "collapsed": false
   },
   "outputs": [
    {
     "data": {
      "text/plain": [
       "count       236\n",
       "unique        2\n",
       "top       False\n",
       "freq        235\n",
       "Name: explicit_track, dtype: object"
      ]
     },
     "execution_count": 19,
     "metadata": {},
     "output_type": "execute_result"
    }
   ],
   "source": [
    "df.explicit_track.describe()"
   ]
  },
  {
   "cell_type": "markdown",
   "metadata": {},
   "source": [
    "# acousticness_tf\n",
    "The following are various measures provided by spotify. Many of their descriptions are here: https://developer.spotify.com/web-api/object-model/#audio-features-object also, check out http://rcharlie.com/2017-02-16-fitteR-happieR/ for an intersting investigation of Radiohead's so-called gloom index.\n",
    "Acousticness is a probability if the track is acoustic or not (0=No, 1=yes)"
   ]
  },
  {
   "cell_type": "code",
   "execution_count": 94,
   "metadata": {
    "collapsed": false
   },
   "outputs": [
    {
     "name": "stdout",
     "output_type": "stream",
     "text": [
      "211\n"
     ]
    },
    {
     "data": {
      "image/png": "[encoded data removed]",
      "text/plain": [
       "<matplotlib.figure.Figure at 0x131948c10>"
      ]
     },
     "metadata": {},
     "output_type": "display_data"
    }
   ],
   "source": [
    "df.acousticness_tf.describe()\n",
    "ax = df.acousticness_tf.hist(bins = 20)\n",
    "ax.set_xlabel('Acousticness')\n",
    "#The number of most likely electric tracks\n",
    "print sum(df.acousticness_tf.where(df.acousticness_tf < 0.5).value_counts())"
   ]
  },
  {
   "cell_type": "markdown",
   "metadata": {},
   "source": [
    "# danceability_tf"
   ]
  },
  {
   "cell_type": "code",
   "execution_count": 95,
   "metadata": {
    "collapsed": false
   },
   "outputs": [
    {
     "data": {
      "text/plain": [
       "<matplotlib.axes._subplots.AxesSubplot at 0x132a62fd0>"
      ]
     },
     "execution_count": 95,
     "metadata": {},
     "output_type": "execute_result"
    },
    {
     "data": {
      "image/png": "[encoded data removed]",
      "text/plain": [
       "<matplotlib.figure.Figure at 0x1324e15d0>"
      ]
     },
     "metadata": {},
     "output_type": "display_data"
    },
    {
     "data": {
      "image/png": "[encoded data removed]",
      "text/plain": [
       "<matplotlib.figure.Figure at 0x1329f7350>"
      ]
     },
     "metadata": {},
     "output_type": "display_data"
    }
   ],
   "source": [
    "color_dict = {0: 'lightseagreen', 1: 'red'}\n",
    "df['color_hit'] = df.Hit.map(color_dict)\n",
    "ax = df.danceability_tf.hist(bins=20)\n",
    "ax.set_xlabel('Danceablility')\n",
    "df.plot.scatter(x='acousticness_tf', y='danceability_tf', c=df.color_hit)"
   ]
  },
  {
   "cell_type": "markdown",
   "metadata": {},
   "source": [
    "# energy_tf"
   ]
  },
  {
   "cell_type": "code",
   "execution_count": 98,
   "metadata": {
    "collapsed": false
   },
   "outputs": [
    {
     "data": {
      "text/plain": [
       "<matplotlib.axes._subplots.AxesSubplot at 0x13309c0d0>"
      ]
     },
     "execution_count": 98,
     "metadata": {},
     "output_type": "execute_result"
    },
    {
     "data": {
      "image/png": "[encoded data removed]",
      "text/plain": [
       "<matplotlib.figure.Figure at 0x132cf4b50>"
      ]
     },
     "metadata": {},
     "output_type": "display_data"
    },
    {
     "data": {
      "image/png": "[encoded data removed]",
      "text/plain": [
       "<matplotlib.figure.Figure at 0x132f6e290>"
      ]
     },
     "metadata": {},
     "output_type": "display_data"
    },
    {
     "data": {
      "image/png": "[encoded data removed]",
      "text/plain": [
       "<matplotlib.figure.Figure at 0x132f6e2d0>"
      ]
     },
     "metadata": {},
     "output_type": "display_data"
    }
   ],
   "source": [
    "ax = df.energy_tf.hist(bins=20)\n",
    "ax.set_xlabel('Energy')\n",
    "df.plot.scatter(x='energy_tf', y='danceability_tf', c=df.color_hit)\n",
    "df.plot.scatter(x='acousticness_tf', y='energy_tf', c=df.color_hit)"
   ]
  },
  {
   "cell_type": "markdown",
   "metadata": {},
   "source": [
    "# instrumentalness_tf\n",
    "A measure of how many vocals a track has, 0 is close to rap, 1 is close to no vocals. Values > 0.5 are most likely instrumental only. There are almost no instrumental tracks, 47 are 0."
   ]
  },
  {
   "cell_type": "code",
   "execution_count": 24,
   "metadata": {
    "collapsed": false
   },
   "outputs": [
    {
     "data": {
      "text/plain": [
       "47"
      ]
     },
     "execution_count": 24,
     "metadata": {},
     "output_type": "execute_result"
    },
    {
     "data": {
      "image/png": "[encoded data removed]",
      "text/plain": [
       "<matplotlib.figure.Figure at 0x1178a40d0>"
      ]
     },
     "metadata": {},
     "output_type": "display_data"
    }
   ],
   "source": [
    "ax = df.instrumentalness_tf.hist(bins=np.arange(0, .05, 0.001))\n",
    "ax.set_xlabel('Instrumental Score')\n",
    "df.instrumentalness_tf.describe()\n",
    "#\n",
    "len([inst for inst in df.instrumentalness_tf if inst == 0])"
   ]
  },
  {
   "cell_type": "markdown",
   "metadata": {},
   "source": [
    "# key_tf\n",
    "The key of the song, maps to the pitch class: https://en.wikipedia.org/wiki/Pitch_class\n",
    "0 is C, with increments of 1 signifying the next step (i.e., C=0, C#=1, D=2, etc.)\n",
    "Tom Petty tends to D, but is by no means exclusive to D, and he avoids sharps/flats generally."
   ]
  },
  {
   "cell_type": "code",
   "execution_count": 25,
   "metadata": {
    "collapsed": false
   },
   "outputs": [
    {
     "data": {
      "text/plain": [
       "<matplotlib.axes._subplots.AxesSubplot at 0x117ca1e90>"
      ]
     },
     "execution_count": 25,
     "metadata": {},
     "output_type": "execute_result"
    },
    {
     "data": {
      "image/png": "[encoded data removed]",
      "text/plain": [
       "<matplotlib.figure.Figure at 0x1178a4a50>"
      ]
     },
     "metadata": {},
     "output_type": "display_data"
    }
   ],
   "source": [
    "df.key_tf.hist(bins=11)"
   ]
  },
  {
   "cell_type": "markdown",
   "metadata": {},
   "source": [
    "# liveness_tf\n",
    "Is the track a live recording? Yes: 1, No: 0"
   ]
  },
  {
   "cell_type": "code",
   "execution_count": 26,
   "metadata": {
    "collapsed": false
   },
   "outputs": [
    {
     "data": {
      "text/plain": [
       "<matplotlib.text.Text at 0x117dae890>"
      ]
     },
     "execution_count": 26,
     "metadata": {},
     "output_type": "execute_result"
    },
    {
     "data": {
      "image/png": "[encoded data removed]",
      "text/plain": [
       "<matplotlib.figure.Figure at 0x117b3b3d0>"
      ]
     },
     "metadata": {},
     "output_type": "display_data"
    }
   ],
   "source": [
    "ax = df.liveness_tf.hist(bins=20)\n",
    "ax.set_xlabel('Live Score')"
   ]
  },
  {
   "cell_type": "markdown",
   "metadata": {},
   "source": [
    "# loudness_tf\n",
    "The loudness of the track in dB"
   ]
  },
  {
   "cell_type": "code",
   "execution_count": 80,
   "metadata": {
    "collapsed": false
   },
   "outputs": [
    {
     "data": {
      "text/plain": [
       "<matplotlib.text.Text at 0x1311fb750>"
      ]
     },
     "execution_count": 80,
     "metadata": {},
     "output_type": "execute_result"
    },
    {
     "data": {
      "image/png": "[encoded data removed]",
      "text/plain": [
       "<matplotlib.figure.Figure at 0x130f548d0>"
      ]
     },
     "metadata": {},
     "output_type": "display_data"
    }
   ],
   "source": [
    "ax = df.loudness_tf.hist(bins=20)\n",
    "ax.set_xlabel('Loudness (dB)')"
   ]
  },
  {
   "cell_type": "markdown",
   "metadata": {},
   "source": [
    "# mode_tf\n",
    "The modality, or whether the key is major (1) or minor (0)"
   ]
  },
  {
   "cell_type": "code",
   "execution_count": 28,
   "metadata": {
    "collapsed": false
   },
   "outputs": [
    {
     "data": {
      "text/plain": [
       "1    185\n",
       "0     51\n",
       "Name: mode_tf, dtype: int64"
      ]
     },
     "execution_count": 28,
     "metadata": {},
     "output_type": "execute_result"
    }
   ],
   "source": [
    "df.mode_tf.value_counts()"
   ]
  },
  {
   "cell_type": "markdown",
   "metadata": {},
   "source": [
    "# speechiness_tf\n",
    "How close the track is to spoken word (1) vs instrumental (0)\n",
    "According to Spotify, < 0.33 signifies mostly instrumental, so this metric may be unreliable given that Tom Petty typically has lyrics in the songs"
   ]
  },
  {
   "cell_type": "code",
   "execution_count": 29,
   "metadata": {
    "collapsed": false
   },
   "outputs": [
    {
     "data": {
      "text/plain": [
       "<matplotlib.text.Text at 0x118019310>"
      ]
     },
     "execution_count": 29,
     "metadata": {},
     "output_type": "execute_result"
    },
    {
     "data": {
      "image/png": "[encoded data removed]",
      "text/plain": [
       "<matplotlib.figure.Figure at 0x11734f650>"
      ]
     },
     "metadata": {},
     "output_type": "display_data"
    }
   ],
   "source": [
    "ax = df.speechiness_tf.hist(bins=20)\n",
    "ax.set_xlabel('Speechiness')"
   ]
  },
  {
   "cell_type": "markdown",
   "metadata": {},
   "source": [
    "# tempo_tf"
   ]
  },
  {
   "cell_type": "code",
   "execution_count": 30,
   "metadata": {
    "collapsed": false
   },
   "outputs": [
    {
     "data": {
      "text/plain": [
       "<matplotlib.text.Text at 0x117dd55d0>"
      ]
     },
     "execution_count": 30,
     "metadata": {},
     "output_type": "execute_result"
    },
    {
     "data": {
      "image/png": "[encoded data removed]",
      "text/plain": [
       "<matplotlib.figure.Figure at 0x1172c0c50>"
      ]
     },
     "metadata": {},
     "output_type": "display_data"
    }
   ],
   "source": [
    "ax = df.tempo_tf.hist()\n",
    "ax.set_xlabel('Tempo (BPM)')"
   ]
  },
  {
   "cell_type": "markdown",
   "metadata": {},
   "source": [
    "# time_signature_tf\n",
    "How many beats are in each bar or measure"
   ]
  },
  {
   "cell_type": "code",
   "execution_count": 31,
   "metadata": {
    "collapsed": false
   },
   "outputs": [
    {
     "data": {
      "text/plain": [
       "4    223\n",
       "3     13\n",
       "Name: time_signature_tf, dtype: int64"
      ]
     },
     "execution_count": 31,
     "metadata": {},
     "output_type": "execute_result"
    }
   ],
   "source": [
    "df.time_signature_tf.value_counts()"
   ]
  },
  {
   "cell_type": "markdown",
   "metadata": {},
   "source": [
    "# valence_tf\n",
    "A measure of how happy (1) or sad (0) a track is\n",
    "Tom Petty tends to have a wide spectrum of sadness and happiness"
   ]
  },
  {
   "cell_type": "code",
   "execution_count": 32,
   "metadata": {
    "collapsed": false
   },
   "outputs": [
    {
     "data": {
      "image/png": "[encoded data removed]",
      "text/plain": [
       "<matplotlib.figure.Figure at 0x1182d3bd0>"
      ]
     },
     "metadata": {},
     "output_type": "display_data"
    }
   ],
   "source": [
    "ax = df.valence_tf.hist()"
   ]
  },
  {
   "cell_type": "markdown",
   "metadata": {},
   "source": [
    "## Relation exploration\n",
    "Spotify provides us with a rich set of continuous data. We have already plotted a few relations but let's test all of them. Note that explicitness, and instrumentalness because almost every track has the same value for explicitness and instrumentalness."
   ]
  },
  {
   "cell_type": "code",
   "execution_count": 72,
   "metadata": {
    "collapsed": false
   },
   "outputs": [
    {
     "data": {
      "text/plain": [
       "<matplotlib.axes._subplots.AxesSubplot at 0x1303d3150>"
      ]
     },
     "execution_count": 72,
     "metadata": {},
     "output_type": "execute_result"
    },
    {
     "data": {
      "image/png": "[encoded data removed]",
      "text/plain": [
       "<matplotlib.figure.Figure at 0x130a930d0>"
      ]
     },
     "metadata": {},
     "output_type": "display_data"
    }
   ],
   "source": [
    "corr = df.corr()\n",
    "corr\n",
    "fig, ax = plt.subplots(figsize=(12,10)) \n",
    "sns.heatmap(corr)\n",
    "\n",
    "#fields = ['acousticness_tf', 'danceability_tf', 'energy_tf', 'liveness_tf', 'loudness_tf', 'valence_tf', 'tempo_tf']\n",
    "#fields = ['album_year', 'popularity_track', 'popularity_album',\n",
    "#          'duration_ms_track', 'Hit', 'acousticness_tf',\n",
    "#          'danceability_tf', 'energy_tf', 'key_tf', 'liveness_tf',\n",
    "#          'loudness_tf', 'mode_tf', 'speechiness_tf', 'tempo_tf',\n",
    "#          'valence_tf']\n",
    "#from pandas.plotting import scatter_matrix\n",
    "#scatter_matrix(df[fields], alpha=0.2, figsize=(12, 12), diagonal='hist')"
   ]
  },
  {
   "cell_type": "markdown",
   "metadata": {},
   "source": [
    "## Hit Analysis/Prediction\n",
    "From the correlation coefficients, most fields do not correlate well with one another. This is actually not so much of a bad thing, and I'm sure the Spotify data scientists engineered the \\_tf fields such that they don't have high correlation coefficients with one another (otherwise there isn't much point in including a field if it can be predicted easily from another field). Of course, our y-value (Hit) also doesn't correlate with anything other than the popularity of the album and track, fields which wouldn't be in the test set. The goal is to use the plentiful feature vectors to try and build a model which can predict if a track will be a hit or not."
   ]
  },
  {
   "cell_type": "code",
   "execution_count": 77,
   "metadata": {
    "collapsed": false
   },
   "outputs": [
    {
     "data": {
      "text/plain": [
       "1976.0    3\n",
       "1978.0    1\n",
       "1988.0    2\n",
       "1989.0    6\n",
       "1991.0    2\n",
       "1994.0    8\n",
       "1996.0    1\n",
       "1999.0    1\n",
       "2002.0    1\n",
       "2006.0    3\n",
       "Name: album_year, dtype: int64"
      ]
     },
     "execution_count": 77,
     "metadata": {},
     "output_type": "execute_result"
    }
   ],
   "source": [
    "df.album_year.where(df.Hit == 1).value_counts().sort_index()"
   ]
  },
  {
   "cell_type": "code",
   "execution_count": 75,
   "metadata": {
    "collapsed": false
   },
   "outputs": [
    {
     "data": {
      "text/plain": [
       "Wildflowers                                                8\n",
       "Full Moon Fever                                            6\n",
       "Highway Companion (U.S. Version)                           3\n",
       "Tom Petty & The Heartbreakers                              3\n",
       "The Traveling Wilburys, Vol. 1                             2\n",
       "Into The Great Wide Open                                   2\n",
       "Echo                                                       1\n",
       "She's The One (Songs and Music From The Motion Picture)    1\n",
       "You're Gonna Get it                                        1\n",
       "The Last DJ                                                1\n",
       "Name: name_album, dtype: int64"
      ]
     },
     "execution_count": 75,
     "metadata": {},
     "output_type": "execute_result"
    }
   ],
   "source": [
    "df.name_album.where(df.Hit == 1).value_counts()"
   ]
  },
  {
   "cell_type": "code",
   "execution_count": null,
   "metadata": {
    "collapsed": true
   },
   "outputs": [],
   "source": []
  }
 ],
 "metadata": {
  "kernelspec": {
   "display_name": "Python 2",
   "language": "python",
   "name": "python2"
  },
  "language_info": {
   "codemirror_mode": {
    "name": "ipython",
    "version": 2
   },
   "file_extension": ".py",
   "mimetype": "text/x-python",
   "name": "python",
   "nbconvert_exporter": "python",
   "pygments_lexer": "ipython2",
   "version": "2.7.13"
  }
 },
 "nbformat": 4,
 "nbformat_minor": 2
}
